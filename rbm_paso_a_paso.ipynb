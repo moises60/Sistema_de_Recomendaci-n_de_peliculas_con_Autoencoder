{
 "cells": [
  {
   "cell_type": "markdown",
   "metadata": {},
   "source": [
    "<h1>Notebook: Autoencoder para Sistemas de Recomendación con MovieLens 1M</h1>"
   ]
  },
  {
   "cell_type": "markdown",
   "metadata": {},
   "source": [
    "<h4>Configuración del Entorno<h4>"
   ]
  },
  {
   "cell_type": "code",
   "execution_count": 9,
   "metadata": {},
   "outputs": [
    {
     "name": "stdout",
     "output_type": "stream",
     "text": [
      "Usando dispositivo: cuda\n"
     ]
    }
   ],
   "source": [
    "#Primero, importaremos las librerías necesarias y configuraremos el dispositivo (CPU o CUDA) para aprovechar la aceleración de hardware si está disponible.\n",
    "# Importación de librerías necesarias\n",
    "import torch\n",
    "import torch.optim as optim\n",
    "from torch.utils.data import DataLoader, TensorDataset\n",
    "from sklearn.model_selection import train_test_split\n",
    "import pandas as pd\n",
    "import numpy as np\n",
    "import matplotlib.pyplot as plt\n",
    "from torch.autograd import Variable\n",
    "\n",
    "from models.sae import SAE\n",
    "from utils.data_preprocessing import load_ratings, load_movies, binarize\n",
    "from Recommender import get_user_ratings, recommend_movies_sae\n",
    "\n",
    "\n",
    "# Configuración del dispositivo (CPU o CUDA)\n",
    "device = torch.device(\"cuda\" if torch.cuda.is_available() else \"cpu\")\n",
    "print(f\"Usando dispositivo: {device}\")\n"
   ]
  },
  {
   "cell_type": "markdown",
   "metadata": {},
   "source": [
    "<h4>Carga y Preprocesamiento de los Datos<h4>"
   ]
  },
  {
   "cell_type": "code",
   "execution_count": 10,
   "metadata": {},
   "outputs": [
    {
     "name": "stdout",
     "output_type": "stream",
     "text": [
      "Valoraciones cargadas exitosamente.\n"
     ]
    }
   ],
   "source": [
    "ratings = load_ratings('data/ml-1m/ratings.dat')\n",
    "print(\"Valoraciones cargadas exitosamente.\")\n"
   ]
  },
  {
   "cell_type": "code",
   "execution_count": 12,
   "metadata": {},
   "outputs": [
    {
     "name": "stdout",
     "output_type": "stream",
     "text": [
      "Número de usuarios: 6040\n",
      "Número de películas: 3706\n"
     ]
    }
   ],
   "source": [
    "# Obtener el número único de usuarios y películas\n",
    "nb_users = ratings['UserID'].nunique()\n",
    "nb_movies = ratings['MovieID'].nunique()\n",
    "print(f\"Número de usuarios: {nb_users}\")\n",
    "print(f\"Número de películas: {nb_movies}\")\n"
   ]
  },
  {
   "cell_type": "code",
   "execution_count": 13,
   "metadata": {},
   "outputs": [
    {
     "name": "stdout",
     "output_type": "stream",
     "text": [
      "MovieIDs mapeados a índices consecutivos.\n"
     ]
    }
   ],
   "source": [
    "# Mapear MovieIDs a índices consecutivos\n",
    "#Para facilitar el manejo de las películas en matrices, mapearemos cada MovieID a un índice consecutivo.\n",
    "unique_movie_ids = ratings['MovieID'].unique()\n",
    "movie_id_to_index = {movie_id: index for index, movie_id in enumerate(unique_movie_ids)}\n",
    "index_to_movie_id = {index: movie_id for movie_id, index in movie_id_to_index.items()}\n",
    "print(\"MovieIDs mapeados a índices consecutivos.\")"
   ]
  },
  {
   "cell_type": "code",
   "execution_count": 15,
   "metadata": {},
   "outputs": [
    {
     "name": "stdout",
     "output_type": "stream",
     "text": [
      "Matriz de usuarios vs películas creada.\n",
      "Matriz convertida a tensor de PyTorch.\n"
     ]
    }
   ],
   "source": [
    "# Convertir los datos a una matriz de usuarios vs películas\n",
    "data = ratings.copy()\n",
    "data['UserID'] = data['UserID'] - 1  # Ajustar índices de usuarios para que comiencen en 0\n",
    "data['MovieIndex'] = data['MovieID'].map(movie_id_to_index)\n",
    "data = data.dropna(subset=['MovieIndex'])\n",
    "data['MovieIndex'] = data['MovieIndex'].astype(int)\n",
    "\n",
    "# Crear una matriz llena de ceros\n",
    "user_movie_matrix = np.zeros((nb_users, nb_movies))\n",
    "\n",
    "# Llenar la matriz con las valoraciones\n",
    "for row in data.itertuples():\n",
    "    user_movie_matrix[row.UserID, row.MovieIndex] = row.Rating\n",
    "\n",
    "print(\"Matriz de usuarios vs películas creada.\")\n",
    "\n",
    "# Convertir a tensores\n",
    "user_movie_tensor = torch.FloatTensor(user_movie_matrix)\n",
    "print(\"Matriz convertida a tensor de PyTorch.\")"
   ]
  },
  {
   "cell_type": "code",
   "execution_count": 16,
   "metadata": {},
   "outputs": [
    {
     "name": "stdout",
     "output_type": "stream",
     "text": [
      "Conjuntos de entrenamiento y prueba creados.\n"
     ]
    }
   ],
   "source": [
    "# Crear división de entrenamiento y prueba (80% entrenamiento, 20% prueba)\n",
    "train_set, test_set = train_test_split(user_movie_tensor, test_size=0.2, random_state=42)\n",
    "train_set = train_set.to(device)\n",
    "test_set = test_set.to(device)\n",
    "print(\"Conjuntos de entrenamiento y prueba creados.\")\n"
   ]
  },
  {
   "cell_type": "code",
   "execution_count": 17,
   "metadata": {},
   "outputs": [
    {
     "name": "stdout",
     "output_type": "stream",
     "text": [
      "Autoencoder SAE definido.\n",
      "Función de pérdida y optimizador configurados.\n"
     ]
    }
   ],
   "source": [
    "# Definir la arquitectura del SAE\n",
    "sae = SAE(nb_movies=nb_movies, layers=[128, 64]).to(device)\n",
    "print(\"Autoencoder SAE definido.\")\n",
    "\n",
    "# Definir la función de pérdida y el optimizador\n",
    "criterion = torch.nn.MSELoss()\n",
    "optimizer = optim.Adam(sae.parameters(), lr=0.001, weight_decay=1e-5)\n",
    "print(\"Función de pérdida y optimizador configurados.\")\n",
    "\n"
   ]
  },
  {
   "cell_type": "markdown",
   "metadata": {},
   "source": [
    "<h2>Entrenamiento del SAE con Mini-Batches</h2>"
   ]
  },
  {
   "cell_type": "code",
   "execution_count": 19,
   "metadata": {},
   "outputs": [
    {
     "name": "stdout",
     "output_type": "stream",
     "text": [
      "Inicio del entrenamiento del SAE...\n",
      "Época: 1, Pérdida de Entrenamiento: 7.9192, Pérdida de Prueba: 4.1443\n",
      "Época: 2, Pérdida de Entrenamiento: 3.4409, Pérdida de Prueba: 2.9737\n",
      "Época: 3, Pérdida de Entrenamiento: 2.5390, Pérdida de Prueba: 2.4249\n",
      "Época: 4, Pérdida de Entrenamiento: 2.1444, Pérdida de Prueba: 2.4774\n",
      "Época: 5, Pérdida de Entrenamiento: 1.9706, Pérdida de Prueba: 2.2471\n",
      "Época: 6, Pérdida de Entrenamiento: 1.8509, Pérdida de Prueba: 1.8447\n",
      "Época: 7, Pérdida de Entrenamiento: 1.7376, Pérdida de Prueba: 2.0815\n",
      "Época: 8, Pérdida de Entrenamiento: 1.5046, Pérdida de Prueba: 2.0633\n",
      "Época: 9, Pérdida de Entrenamiento: 1.4174, Pérdida de Prueba: 1.9069\n",
      "Época: 10, Pérdida de Entrenamiento: 1.4298, Pérdida de Prueba: 1.8351\n",
      "Época: 11, Pérdida de Entrenamiento: 1.3140, Pérdida de Prueba: 1.8836\n",
      "Época: 12, Pérdida de Entrenamiento: 1.2451, Pérdida de Prueba: 1.6426\n",
      "Época: 13, Pérdida de Entrenamiento: 1.2022, Pérdida de Prueba: 1.4338\n",
      "Época: 14, Pérdida de Entrenamiento: 1.1112, Pérdida de Prueba: 1.4912\n",
      "Época: 15, Pérdida de Entrenamiento: 1.0551, Pérdida de Prueba: 1.2563\n",
      "Época: 16, Pérdida de Entrenamiento: 1.0282, Pérdida de Prueba: 1.1464\n",
      "Época: 17, Pérdida de Entrenamiento: 0.9899, Pérdida de Prueba: 1.0477\n",
      "Época: 18, Pérdida de Entrenamiento: 0.9526, Pérdida de Prueba: 1.0050\n",
      "Época: 19, Pérdida de Entrenamiento: 0.9404, Pérdida de Prueba: 1.0303\n",
      "Época: 20, Pérdida de Entrenamiento: 0.9345, Pérdida de Prueba: 1.0088\n",
      "Época: 21, Pérdida de Entrenamiento: 0.9288, Pérdida de Prueba: 0.9983\n",
      "Época: 22, Pérdida de Entrenamiento: 0.9203, Pérdida de Prueba: 0.9791\n",
      "Época: 23, Pérdida de Entrenamiento: 0.9149, Pérdida de Prueba: 0.9906\n",
      "Época: 24, Pérdida de Entrenamiento: 0.9103, Pérdida de Prueba: 0.9871\n",
      "Época: 25, Pérdida de Entrenamiento: 0.9087, Pérdida de Prueba: 0.9708\n",
      "Época: 26, Pérdida de Entrenamiento: 0.9034, Pérdida de Prueba: 0.9716\n",
      "Época: 27, Pérdida de Entrenamiento: 0.8935, Pérdida de Prueba: 0.9744\n",
      "Época: 28, Pérdida de Entrenamiento: 0.8999, Pérdida de Prueba: 0.9756\n",
      "Época: 29, Pérdida de Entrenamiento: 0.9095, Pérdida de Prueba: 0.9740\n",
      "Época: 30, Pérdida de Entrenamiento: 0.8995, Pérdida de Prueba: 0.9755\n",
      "Época: 31, Pérdida de Entrenamiento: 0.8955, Pérdida de Prueba: 0.9554\n",
      "Época: 32, Pérdida de Entrenamiento: 0.8894, Pérdida de Prueba: 0.9598\n",
      "Época: 33, Pérdida de Entrenamiento: 0.8884, Pérdida de Prueba: 0.9796\n",
      "Época: 34, Pérdida de Entrenamiento: 0.8901, Pérdida de Prueba: 0.9651\n",
      "Época: 35, Pérdida de Entrenamiento: 0.8821, Pérdida de Prueba: 0.9687\n",
      "Época: 36, Pérdida de Entrenamiento: 0.8876, Pérdida de Prueba: 0.9739\n",
      "Época: 37, Pérdida de Entrenamiento: 0.8842, Pérdida de Prueba: 0.9672\n",
      "Época: 38, Pérdida de Entrenamiento: 0.8768, Pérdida de Prueba: 0.9719\n",
      "Época: 39, Pérdida de Entrenamiento: 0.8820, Pérdida de Prueba: 0.9711\n",
      "Época: 40, Pérdida de Entrenamiento: 0.8780, Pérdida de Prueba: 0.9621\n",
      "Época: 41, Pérdida de Entrenamiento: 0.8713, Pérdida de Prueba: 0.9561\n",
      "Época: 42, Pérdida de Entrenamiento: 0.8714, Pérdida de Prueba: 0.9529\n",
      "Época: 43, Pérdida de Entrenamiento: 0.8699, Pérdida de Prueba: 0.9627\n",
      "Época: 44, Pérdida de Entrenamiento: 0.8736, Pérdida de Prueba: 0.9573\n",
      "Época: 45, Pérdida de Entrenamiento: 0.8723, Pérdida de Prueba: 0.9488\n",
      "Época: 46, Pérdida de Entrenamiento: 0.8745, Pérdida de Prueba: 0.9496\n",
      "Época: 47, Pérdida de Entrenamiento: 0.8679, Pérdida de Prueba: 0.9474\n",
      "Época: 48, Pérdida de Entrenamiento: 0.8642, Pérdida de Prueba: 0.9675\n",
      "Época: 49, Pérdida de Entrenamiento: 0.8653, Pérdida de Prueba: 0.9475\n",
      "Época: 50, Pérdida de Entrenamiento: 0.8684, Pérdida de Prueba: 0.9664\n",
      "Época: 51, Pérdida de Entrenamiento: 0.8683, Pérdida de Prueba: 0.9348\n",
      "Época: 52, Pérdida de Entrenamiento: 0.8647, Pérdida de Prueba: 0.9438\n",
      "Época: 53, Pérdida de Entrenamiento: 0.8580, Pérdida de Prueba: 0.9484\n",
      "Época: 54, Pérdida de Entrenamiento: 0.8567, Pérdida de Prueba: 0.9510\n",
      "Época: 55, Pérdida de Entrenamiento: 0.8608, Pérdida de Prueba: 0.9364\n",
      "Época: 56, Pérdida de Entrenamiento: 0.8610, Pérdida de Prueba: 0.9350\n",
      "Época: 57, Pérdida de Entrenamiento: 0.8587, Pérdida de Prueba: 0.9358\n",
      "Época: 58, Pérdida de Entrenamiento: 0.8597, Pérdida de Prueba: 0.9432\n",
      "Época: 59, Pérdida de Entrenamiento: 0.8548, Pérdida de Prueba: 0.9371\n",
      "Época: 60, Pérdida de Entrenamiento: 0.8559, Pérdida de Prueba: 0.9435\n",
      "Época: 61, Pérdida de Entrenamiento: 0.8547, Pérdida de Prueba: 0.9270\n",
      "Época: 62, Pérdida de Entrenamiento: 0.8503, Pérdida de Prueba: 0.9325\n",
      "Época: 63, Pérdida de Entrenamiento: 0.8485, Pérdida de Prueba: 0.9318\n",
      "Época: 64, Pérdida de Entrenamiento: 0.8490, Pérdida de Prueba: 0.9332\n",
      "Época: 65, Pérdida de Entrenamiento: 0.8406, Pérdida de Prueba: 0.9340\n",
      "Época: 66, Pérdida de Entrenamiento: 0.8436, Pérdida de Prueba: 0.9307\n",
      "Época: 67, Pérdida de Entrenamiento: 0.8435, Pérdida de Prueba: 0.9386\n",
      "Época: 68, Pérdida de Entrenamiento: 0.8454, Pérdida de Prueba: 0.9298\n",
      "Época: 69, Pérdida de Entrenamiento: 0.8506, Pérdida de Prueba: 0.9246\n",
      "Época: 70, Pérdida de Entrenamiento: 0.8540, Pérdida de Prueba: 0.9276\n",
      "Entrenamiento completado.\n"
     ]
    }
   ],
   "source": [
    "\n",
    "nb_epoch = 70\n",
    "train_loss_per_epoch = []\n",
    "test_loss_per_epoch = []\n",
    "\n",
    "print(\"Inicio del entrenamiento del SAE...\")\n",
    "\n",
    "for epoch in range(1, nb_epoch + 1):\n",
    "    sae.train()\n",
    "    train_loss = 0\n",
    "    s = 0.\n",
    "    \n",
    "    for batch in train_loader:\n",
    "        input = batch[0].to(device)\n",
    "        target = input.clone()\n",
    "        \n",
    "        # Crear máscara para ignorar las películas no valoradas\n",
    "        mask = target > 0\n",
    "        \n",
    "        # Forward pass\n",
    "        output = sae(input)\n",
    "        \n",
    "        # Calcular la pérdida solo en las películas valoradas\n",
    "        loss = criterion(output[mask], target[mask])\n",
    "        \n",
    "        # Backward pass y optimización\n",
    "        optimizer.zero_grad()\n",
    "        loss.backward()\n",
    "        optimizer.step()\n",
    "        \n",
    "        train_loss += loss.item()\n",
    "        s += 1.\n",
    "    \n",
    "    average_train_loss = train_loss / s if s > 0 else 0\n",
    "    train_loss_per_epoch.append(average_train_loss)\n",
    "    \n",
    "    # Evaluación en el conjunto de prueba\n",
    "    sae.eval()\n",
    "    test_loss = 0\n",
    "    s_test = 0.\n",
    "    with torch.no_grad():\n",
    "        for batch in test_loader:\n",
    "            input = batch[0].to(device)\n",
    "            target = input.clone()\n",
    "            mask = target > 0\n",
    "            output = sae(input)\n",
    "            loss = criterion(output[mask], target[mask])\n",
    "            test_loss += loss.item()\n",
    "            s_test += 1.\n",
    "    \n",
    "    average_test_loss = test_loss / s_test if s_test > 0 else 0\n",
    "    test_loss_per_epoch.append(average_test_loss)\n",
    "    \n",
    "    print(f\"Época: {epoch}, Pérdida de Entrenamiento: {average_train_loss:.4f}, Pérdida de Prueba: {average_test_loss:.4f}\")\n",
    "\n",
    "print(\"Entrenamiento completado.\")\n"
   ]
  },
  {
   "cell_type": "markdown",
   "metadata": {},
   "source": [
    "<h2>Visualización de la Pérdida</h2>"
   ]
  },
  {
   "cell_type": "code",
   "execution_count": 20,
   "metadata": {},
   "outputs": [
    {
     "data": {
      "image/png": "[encoded data removed]",
      "text/plain": [
       "<Figure size 1000x500 with 1 Axes>"
      ]
     },
     "metadata": {},
     "output_type": "display_data"
    },
    {
     "name": "stdout",
     "output_type": "stream",
     "text": [
      "Gráfico de pérdida generado y guardado.\n"
     ]
    }
   ],
   "source": [
    "plt.figure(figsize=(10,5))\n",
    "plt.plot(range(1, nb_epoch + 1), train_loss_per_epoch, marker='o', label='Pérdida de Entrenamiento')\n",
    "plt.plot(range(1, nb_epoch + 1), test_loss_per_epoch, marker='x', label='Pérdida de Prueba')\n",
    "plt.xlabel('Época')\n",
    "plt.ylabel('Pérdida MSE')\n",
    "plt.title('Pérdida de Entrenamiento y Prueba por Época')\n",
    "plt.legend()\n",
    "plt.grid(True)\n",
    "plt.show()\n",
    "print(\"Gráfico de pérdida generado y guardado.\")\n",
    "\n"
   ]
  }
 ],
 "metadata": {
  "kernelspec": {
   "display_name": "Python 3",
   "language": "python",
   "name": "python3"
  },
  "language_info": {
   "codemirror_mode": {
    "name": "ipython",
    "version": 3
   },
   "file_extension": ".py",
   "mimetype": "text/x-python",
   "name": "python",
   "nbconvert_exporter": "python",
   "pygments_lexer": "ipython3",
   "version": "3.12.4"
  }
 },
 "nbformat": 4,
 "nbformat_minor": 2
}
